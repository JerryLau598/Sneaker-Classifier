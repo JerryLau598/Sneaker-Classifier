{
  "nbformat": 4,
  "nbformat_minor": 0,
  "metadata": {
    "colab": {
      "name": "SneakerDetector.ipynb",
      "provenance": [],
      "collapsed_sections": [
        "p6c21C9WpD04",
        "4uKbGVoJvzgj",
        "86AihEs0H_xi",
        "9lx0ffhOOHrp",
        "sn1b6lg3N44n",
        "m0poHg_sQ5bb",
        "bQ_AlFp-UG1n",
        "ZeG5UpbpT_KA",
        "QdRiQ5rwXcZs",
        "xAqe4i7dusJ3"
      ]
    },
    "kernelspec": {
      "name": "python3",
      "display_name": "Python 3"
    }
  },
  "cells": [
    {
      "cell_type": "markdown",
      "metadata": {
        "id": "p6c21C9WpD04",
        "colab_type": "text"
      },
      "source": [
        "# Collect the datas"
      ]
    },
    {
      "cell_type": "markdown",
      "metadata": {
        "id": "vsPqpAG2kr2H",
        "colab_type": "text"
      },
      "source": [
        "## How to collect your customized dataset(Google Images)\n",
        "  * First we check this useful tool called **gi2ds - Google Image Search 2 Dataset** created by **Christoffer Björkskog**\n",
        "  https://github.com/toffebjorkskog/ml-tools/blob/master/gi2ds.md#bookmarklet\n",
        "  * This is a tool that you can collect the url link of the figures from Google Images with simply open the Javascript console on your browser and add the given code in it.\n",
        "\n",
        "Here we gave an example of actually how to use the code provided by gi2ds.\n"
      ]
    },
    {
      "cell_type": "markdown",
      "metadata": {
        "id": "GzVb7uXw-xdS",
        "colab_type": "text"
      },
      "source": [
        "We first open our browser, for me I use Safari, and open the Javascript console.\n",
        "![替代文字](https://i.ibb.co/0ZW7mdF/2020-01-2310-14-15.png)\n",
        "\n",
        "Then we copy the code in the given link and paste it into the Javascript console.![替代文字](https://i.ibb.co/q9MTHzN/2020-01-2310-15-08.png)\n",
        "\n",
        "After doing so, we noticed that there is a small box on the lower right corner, and the url link of the images are presented. What's more, we can click the images that you do not want to not to collect them. What you need to do is to copy the link from that box and paste them into the txt file.![替代文字](https://i.ibb.co/0MHncNX/2020-01-2310-15-24.png)"
      ]
    },
    {
      "cell_type": "markdown",
      "metadata": {
        "id": "346HKMXpkhbM",
        "colab_type": "text"
      },
      "source": [
        "## How to use fast.ai library to download the images from you already collected txt file\n",
        "\n",
        "  * After finish collecting our customized dataset, we can start to importing these images to our GCS storage.\n",
        "  * But it is impossible download all these images to our computer and then upload them into GCS storage again. It is not only waste a lot of time doing so, but also hard to check is there any images is invalid.\n",
        "  * Therefore, we use fast.ai library to help us download the images from our txt file into the google drive. Here is the documentation. https://course.fast.ai/start_colab.html\n",
        "  * Here is the colab notebooks I use to download the images and transfer it to the GCS storage. https://colab.research.google.com/drive/15TOopbc8evJvt4sJVXzpPtfYyUGSHXLi. Basically there are the same code but it is a little bit tedious to do the same procedure here. And the notebook of the link have the results."
      ]
    },
    {
      "cell_type": "markdown",
      "metadata": {
        "id": "WIITk0shENEq",
        "colab_type": "text"
      },
      "source": [
        "We first import the google drive and import some important library."
      ]
    },
    {
      "cell_type": "code",
      "metadata": {
        "id": "88TtJ6cIDg-n",
        "colab_type": "code",
        "colab": {}
      },
      "source": [
        "from google.colab import drive\n",
        "drive.mount('/content/gdrive', force_remount=True)\n",
        "\n",
        "import os\n",
        "os.chdir(\"/content/gdrive/My Drive/Colab Notebooks/FinalProject/Data/images/\")\n",
        "!ls"
      ],
      "execution_count": 0,
      "outputs": []
    },
    {
      "cell_type": "code",
      "metadata": {
        "id": "MuHJGEZSEMJB",
        "colab_type": "code",
        "colab": {}
      },
      "source": [
        "from fastai.vision import *\n",
        "import matplotlib.pyplot as plt\n",
        "import numpy as np"
      ],
      "execution_count": 0,
      "outputs": []
    },
    {
      "cell_type": "markdown",
      "metadata": {
        "id": "q4W27-4dEWVC",
        "colab_type": "text"
      },
      "source": [
        "We then set up the base directory."
      ]
    },
    {
      "cell_type": "code",
      "metadata": {
        "id": "uAXWFkMiEdxQ",
        "colab_type": "code",
        "colab": {}
      },
      "source": [
        "root_dir = \"/content/gdrive/My Drive/\"\n",
        "base_dir = root_dir + 'Colab Notebooks/FinalProject/Data/'"
      ],
      "execution_count": 0,
      "outputs": []
    },
    {
      "cell_type": "code",
      "metadata": {
        "id": "xk_DtMl1E4Xu",
        "colab_type": "code",
        "colab": {}
      },
      "source": [
        "path = Path(base_dir + 'images') # The Path function create a folder named \"images\""
      ],
      "execution_count": 0,
      "outputs": []
    },
    {
      "cell_type": "markdown",
      "metadata": {
        "id": "Z4sdeyggkpBS",
        "colab_type": "text"
      },
      "source": [
        "After we create such folder, we place our txt file into the folder named images"
      ]
    },
    {
      "cell_type": "markdown",
      "metadata": {
        "id": "JB7ueUzcEkts",
        "colab_type": "text"
      },
      "source": [
        "Then we create the class label. **Remember to use the same name as your txt file, otherwise it would gets wrong**"
      ]
    },
    {
      "cell_type": "code",
      "metadata": {
        "id": "nDahW6fVEiac",
        "colab_type": "code",
        "colab": {}
      },
      "source": [
        "classes = ['424_dipped', 'Adidas_yeezy_350', 'Adidas_yeezy_500', 'Adidas_yeezy_700', \n",
        "           'Adidas_nmd', 'Adidas_ozweego', 'Adidas_raf_simons', 'Adidas_stan_smith',\n",
        "           'Adidas_superstar', 'Adidas_ultraboost', 'Adidas_zx', 'airjordan_1',\n",
        "           'airjordan_2', 'airjordan_3', 'airjordan_4', 'airjordan_5', 'airjordan_6',\n",
        "           'airjordan_7', 'airjordan_8', 'airjordan_9', 'airjordan_10', 'airjordan_11',\n",
        "           'airjordan_12', 'airjordan_13', 'airjordan_14', 'airjordan_15', 'airjordan_16',\n",
        "           'airjordan_17', 'airjordan_18', 'airjordan_19', 'airjordan_20', 'airjordan_21',\n",
        "           'airjordan_22', 'airjordan_23', 'airjordan_24', 'airjordan_25', 'airjordan_26',\n",
        "           'airjordan_27', 'airjordan_28', 'airjordan_29', 'airjordan_30', 'airjordan_31',\n",
        "           'airjordan_32', 'airjordan_33', 'airjordan_34', 'Balenciaga_speed_trainer', \n",
        "           'Balenciaga_track', 'Balenciaga_triple_s', 'Bape_star', 'converse', \n",
        "           'Dior_sneaker_high', 'Dior_sneaker_low', 'Dr_martens_1460', 'Dr_martens_1461', \n",
        "           'Dr_martens_chelsea', 'Gucci_embroidery_sneaker', 'Hoka_tor_ultra_high', \n",
        "           'Hoka_tor_ultra_low', 'Li_ning_essence', 'Li_ning_furious_ride',\n",
        "           'Louis_vuitton_archlight_trainers', 'Louis_vuitton_virgil_abloh_sneakers',\n",
        "           'Mcqueen_oversized_sneaker', 'New_balance_574', 'New_balance_990', 'New_balance_993',\n",
        "           'New_balance_997', 'New_balance_1600', 'Nike_air_footscape', 'Nike_airforce_1', \n",
        "           'Nike_airmax_0', 'Nike_airmax_1', 'Nike_airmax_90', 'Nike_airmax_95', \n",
        "           'Nike_airmax_96', 'Nike_airmax_97', 'Nike_airmax_98', 'Nike_airmax_99', \n",
        "           'Nike_airmax_720', 'Nike_dunksb_high', 'Nike_dunksb_low', 'Nike_epic_react',\n",
        "           'Nike_foamposite', 'Nike_free', 'Nike_joyride', 'Nike_react_element',\n",
        "           'Nike_vapormax', 'Puma_suede', 'Reebok_pump_fury', 'Reebok_supreme', \n",
        "           'Vans_old_skool_hi', 'Vans_old_skool_low', 'Visvim_fbt_runner', 'Visvim_virgil_boot']"
      ],
      "execution_count": 0,
      "outputs": []
    },
    {
      "cell_type": "markdown",
      "metadata": {
        "id": "J3SMb0LOE7qI",
        "colab_type": "text"
      },
      "source": [
        "We use the loop to download the images. Noticed that there maybe occur some error when downloading the images, so if you do not want to download it again, you can delete the labels that has already downloaded and rerun the loop. **The error may occurs more than once**, so if something wrong, do not worry and rerun the loop."
      ]
    },
    {
      "cell_type": "code",
      "metadata": {
        "id": "qmEY6OHAFMxz",
        "colab_type": "code",
        "colab": {}
      },
      "source": [
        "for class_name in classes:\n",
        "  folder = class_name\n",
        "  file = class_name + '.txt' #That's the reason why we have to use the same name\n",
        "  dest = path/folder\n",
        "  dest.mkdir(parents=True, exist_ok=True)\n",
        "  print(class_name + '.txt')\n",
        "  download_images(path/file, dest, max_pics=700)  #The function provided by fast.ai can help us download the images from txt file"
      ],
      "execution_count": 0,
      "outputs": []
    },
    {
      "cell_type": "markdown",
      "metadata": {
        "id": "52AoRB1EGofs",
        "colab_type": "text"
      },
      "source": [
        "## How to clean the invalid images\n",
        "  * After download all the images to our google drive, at least there would some images that cannot be opened or anything else, so we need to wipe them out. Here is the link of tutorial. https://zhuanlan.zhihu.com/p/56567350"
      ]
    },
    {
      "cell_type": "markdown",
      "metadata": {
        "id": "ZVGhAyyZHCY5",
        "colab_type": "text"
      },
      "source": [
        "We fisrt declare the labels again just incase we forget to initiallize the labels."
      ]
    },
    {
      "cell_type": "code",
      "metadata": {
        "id": "72LvpyJGHBm1",
        "colab_type": "code",
        "colab": {}
      },
      "source": [
        "classes = ['424_dipped', 'Adidas_yeezy_350', 'Adidas_yeezy_500', 'Adidas_yeezy_700', \n",
        "           'Adidas_nmd', 'Adidas_ozweego', 'Adidas_raf_simons', 'Adidas_stan_smith',\n",
        "           'Adidas_superstar', 'Adidas_ultraboost', 'Adidas_zx', 'airjordan_1',\n",
        "           'airjordan_2', 'airjordan_3', 'airjordan_4', 'airjordan_5', 'airjordan_6',\n",
        "           'airjordan_7', 'airjordan_8', 'airjordan_9', 'airjordan_10', 'airjordan_11',\n",
        "           'airjordan_12', 'airjordan_13', 'airjordan_14', 'airjordan_15', 'airjordan_16',\n",
        "           'airjordan_17', 'airjordan_18', 'airjordan_19', 'airjordan_20', 'airjordan_21',\n",
        "           'airjordan_22', 'airjordan_23', 'airjordan_24', 'airjordan_25', 'airjordan_26',\n",
        "           'airjordan_27', 'airjordan_28', 'airjordan_29', 'airjordan_30', 'airjordan_31',\n",
        "           'airjordan_32', 'airjordan_33', 'airjordan_34', 'Balenciaga_speed_trainer', \n",
        "           'Balenciaga_track', 'Balenciaga_triple_s', 'Bape_star', 'converse', \n",
        "           'Dior_sneaker_high', 'Dior_sneaker_low', 'Dr_martens_1460', 'Dr_martens_1461', \n",
        "           'Dr_martens_chelsea', 'Gucci_embroidery_sneaker', 'Hoka_tor_ultra_high', \n",
        "           'Hoka_tor_ultra_low', 'Li_ning_essence', 'Li_ning_furious_ride',\n",
        "           'Louis_vuitton_archlight_trainers', 'Louis_vuitton_virgil_abloh_sneakers',\n",
        "           'Mcqueen_oversized_sneaker', 'New_balance_574', 'New_balance_990', 'New_balance_993',\n",
        "           'New_balance_997', 'New_balance_1600', 'Nike_air_footscape', 'Nike_airforce_1', \n",
        "           'Nike_airmax_0', 'Nike_airmax_1', 'Nike_airmax_90', 'Nike_airmax_95', \n",
        "           'Nike_airmax_96', 'Nike_airmax_97', 'Nike_airmax_98', 'Nike_airmax_99', \n",
        "           'Nike_airmax_720', 'Nike_dunksb_high', 'Nike_dunksb_low', 'Nike_epic_react',\n",
        "           'Nike_foamposite', 'Nike_free', 'Nike_joyride', 'Nike_react_element',\n",
        "           'Nike_vapormax', 'Puma_suede', 'Reebok_pump_fury', 'Reebok_supreme', \n",
        "           'Vans_old_skool_hi', 'Vans_old_skool_low', 'Visvim_fbt_runner', 'Visvim_virgil_boot']"
      ],
      "execution_count": 0,
      "outputs": []
    },
    {
      "cell_type": "markdown",
      "metadata": {
        "id": "6nZAIkSsHJcJ",
        "colab_type": "text"
      },
      "source": [
        "We then use the function provided by fast.ai to clean the invalid images."
      ]
    },
    {
      "cell_type": "code",
      "metadata": {
        "id": "DAb3t_zCHQAY",
        "colab_type": "code",
        "colab": {}
      },
      "source": [
        "for c in classes:\n",
        "    print(c)\n",
        "    verify_images(path/c, delete=True, max_size=500)"
      ],
      "execution_count": 0,
      "outputs": []
    },
    {
      "cell_type": "markdown",
      "metadata": {
        "id": "S5vR1yJ0HXa1",
        "colab_type": "text"
      },
      "source": [
        "## Create the csv file the gives the correct one-to-one directory of our images\n",
        "  * By documentation of AutoML Vision, we have two ways to import the iamges, since our dataset is too large so we use GCS storage to import them.\n",
        "  * And it needs us to give the csv file that contains the directory of each images in the GCS storage.\n",
        "  * This code is given by the AutoML tutorial. https://gist.github.com/yufengg/984ed8c02d95ce7e95e1c39da906ee04"
      ]
    },
    {
      "cell_type": "markdown",
      "metadata": {
        "id": "48ViCXVMIgD6",
        "colab_type": "text"
      },
      "source": [
        "We first import some important library"
      ]
    },
    {
      "cell_type": "code",
      "metadata": {
        "id": "ycQHIgTvIlh4",
        "colab_type": "code",
        "colab": {}
      },
      "source": [
        "import os\n",
        "import pandas as pd"
      ],
      "execution_count": 0,
      "outputs": []
    },
    {
      "cell_type": "markdown",
      "metadata": {
        "id": "DOvtstYtImGw",
        "colab_type": "text"
      },
      "source": [
        "We then declare the labels again just in case."
      ]
    },
    {
      "cell_type": "code",
      "metadata": {
        "id": "s4QMcoUQIrNv",
        "colab_type": "code",
        "colab": {}
      },
      "source": [
        "classes = ['424_dipped', 'Adidas_yeezy_350', 'Adidas_yeezy_500', 'Adidas_yeezy_700', \n",
        "           'Adidas_nmd', 'Adidas_ozweego', 'Adidas_raf_simons', 'Adidas_stan_smith',\n",
        "           'Adidas_superstar', 'Adidas_ultraboost', 'Adidas_zx', 'airjordan_1',\n",
        "           'airjordan_2', 'airjordan_3', 'airjordan_4', 'airjordan_5', 'airjordan_6',\n",
        "           'airjordan_7', 'airjordan_8', 'airjordan_9', 'airjordan_10', 'airjordan_11',\n",
        "           'airjordan_12', 'airjordan_13', 'airjordan_14', 'airjordan_15', 'airjordan_16',\n",
        "           'airjordan_17', 'airjordan_18', 'airjordan_19', 'airjordan_20', 'airjordan_21',\n",
        "           'airjordan_22', 'airjordan_23', 'airjordan_24', 'airjordan_25', 'airjordan_26',\n",
        "           'airjordan_27', 'airjordan_28', 'airjordan_29', 'airjordan_30', 'airjordan_31',\n",
        "           'airjordan_32', 'airjordan_33', 'airjordan_34', 'Balenciaga_speed_trainer', \n",
        "           'Balenciaga_track', 'Balenciaga_triple_s', 'Bape_star', 'converse', \n",
        "           'Dior_sneaker_high', 'Dior_sneaker_low', 'Dr_martens_1460', 'Dr_martens_1461', \n",
        "           'Dr_martens_chelsea', 'Gucci_embroidery_sneaker', 'Hoka_tor_ultra_high', \n",
        "           'Hoka_tor_ultra_low', 'Li_ning_essence', 'Li_ning_furious_ride',\n",
        "           'Louis_vuitton_archlight_trainers', 'Louis_vuitton_virgil_abloh_sneakers',\n",
        "           'Mcqueen_oversized_sneaker', 'New_balance_574', 'New_balance_990', 'New_balance_993',\n",
        "           'New_balance_997', 'New_balance_1600', 'Nike_air_footscape', 'Nike_airforce_1', \n",
        "           'Nike_airmax_0', 'Nike_airmax_1', 'Nike_airmax_90', 'Nike_airmax_95', \n",
        "           'Nike_airmax_96', 'Nike_airmax_97', 'Nike_airmax_98', 'Nike_airmax_99', \n",
        "           'Nike_airmax_720', 'Nike_dunksb_high', 'Nike_dunksb_low', 'Nike_epic_react',\n",
        "           'Nike_foamposite', 'Nike_free', 'Nike_joyride', 'Nike_react_element',\n",
        "           'Nike_vapormax', 'Puma_suede', 'Reebok_pump_fury', 'Reebok_supreme', \n",
        "           'Vans_old_skool_hi', 'Vans_old_skool_low', 'Visvim_fbt_runner', 'Visvim_virgil_boot']"
      ],
      "execution_count": 0,
      "outputs": []
    },
    {
      "cell_type": "markdown",
      "metadata": {
        "id": "cxgwyJZXIsfD",
        "colab_type": "text"
      },
      "source": [
        "Check some images"
      ]
    },
    {
      "cell_type": "code",
      "metadata": {
        "id": "IYg81VyxIcld",
        "colab_type": "code",
        "colab": {}
      },
      "source": [
        "filenames = [os.listdir(f) for f in classes]\n",
        "[print(f[1]) for f in filenames]\n",
        "[len(f) for f in filenames]"
      ],
      "execution_count": 0,
      "outputs": []
    },
    {
      "cell_type": "markdown",
      "metadata": {
        "id": "wuj2t-ueIxUY",
        "colab_type": "text"
      },
      "source": [
        "Zip up the files"
      ]
    },
    {
      "cell_type": "code",
      "metadata": {
        "id": "D8hMY-oRIyXn",
        "colab_type": "code",
        "colab": {}
      },
      "source": [
        "files_dict = dict(zip(classes, filenames))"
      ],
      "execution_count": 0,
      "outputs": []
    },
    {
      "cell_type": "markdown",
      "metadata": {
        "id": "Th6GkuKEI2pm",
        "colab_type": "text"
      },
      "source": [
        "Set up the GCS storage base directory. **Noticed that when you transfrom the folder from drive to storage, the folder name would be the same where contains your images.**"
      ]
    },
    {
      "cell_type": "code",
      "metadata": {
        "id": "wmTtQ2WVI5G9",
        "colab_type": "code",
        "colab": {}
      },
      "source": [
        "base_gcs_path = 'gs://sneaker_us_central1/images/'"
      ],
      "execution_count": 0,
      "outputs": []
    },
    {
      "cell_type": "markdown",
      "metadata": {
        "id": "rHM3VvNOJMgR",
        "colab_type": "text"
      },
      "source": [
        "Create the csv file by looping them."
      ]
    },
    {
      "cell_type": "code",
      "metadata": {
        "id": "pFjztIukJLZN",
        "colab_type": "code",
        "colab": {}
      },
      "source": [
        "data_array = []\n",
        "\n",
        "for (dict_key, files_list) in files_dict.items():\n",
        "    for filename in files_list:\n",
        "#         print(base_gcs_path + dict_key + '/' + filename)\n",
        "        if '.jpg' not in filename: \n",
        "            continue # don't include non-photos\n",
        "\n",
        "        label = dict_key\n",
        "#         label = 'chair' if 'chair' in dict_key else dict_key # for grouping all chairs as one label\n",
        "        \n",
        "        data_array.append((base_gcs_path + dict_key + '/' + filename , label))"
      ],
      "execution_count": 0,
      "outputs": []
    },
    {
      "cell_type": "markdown",
      "metadata": {
        "id": "4U-P5tX7JVV8",
        "colab_type": "text"
      },
      "source": [
        "We can see some of the results"
      ]
    },
    {
      "cell_type": "code",
      "metadata": {
        "id": "FYHfsjXwJXtg",
        "colab_type": "code",
        "colab": {}
      },
      "source": [
        "data_array"
      ],
      "execution_count": 0,
      "outputs": []
    },
    {
      "cell_type": "markdown",
      "metadata": {
        "id": "innAWyprJaWF",
        "colab_type": "text"
      },
      "source": [
        "We then use Pandas library to **create the csv file**"
      ]
    },
    {
      "cell_type": "code",
      "metadata": {
        "id": "pWVbdhdnJitp",
        "colab_type": "code",
        "colab": {}
      },
      "source": [
        "dataframe = pd.DataFrame(data_array)"
      ],
      "execution_count": 0,
      "outputs": []
    },
    {
      "cell_type": "code",
      "metadata": {
        "id": "bYZ0MsURJkyx",
        "colab_type": "code",
        "colab": {}
      },
      "source": [
        "dataframe"
      ],
      "execution_count": 0,
      "outputs": []
    },
    {
      "cell_type": "markdown",
      "metadata": {
        "id": "pVPChvM9JnoZ",
        "colab_type": "text"
      },
      "source": [
        "Transform the data frame into csv file"
      ]
    },
    {
      "cell_type": "code",
      "metadata": {
        "id": "6CjE3ZUKJqP1",
        "colab_type": "code",
        "colab": {}
      },
      "source": [
        "dataframe.to_csv('Final.csv', index=False, header=False)  #Remember to let the parameter index and header false"
      ],
      "execution_count": 0,
      "outputs": []
    },
    {
      "cell_type": "code",
      "metadata": {
        "id": "hxoNC1RQJsOx",
        "colab_type": "code",
        "colab": {}
      },
      "source": [
        "bucket_name = 'sneaker_us_central1'\n",
        "\n",
        "!gsutil -m cp -r /content/gdrive/My\\ Drive/Colab\\ Notebooks/FinalProject/Data/images/Final.csv gs://{bucket_name}/"
      ],
      "execution_count": 0,
      "outputs": []
    },
    {
      "cell_type": "markdown",
      "metadata": {
        "id": "oM92NsMDJ3Zg",
        "colab_type": "text"
      },
      "source": [
        "## Transfer the images from Google drive to GCS storage\n",
        "  * After we finish the previous steps, we come to the last step of preparing the dataset, transfer them to GCS storage directly.\n",
        "  * This method is given by https://medium.com/@philipplies/transferring-data-from-google-drive-to-google-cloud-storage-using-google-colab-96e088a8c041."
      ]
    },
    {
      "cell_type": "markdown",
      "metadata": {
        "id": "C4VULwRIKPkp",
        "colab_type": "text"
      },
      "source": [
        "We first import the GCS storage library"
      ]
    },
    {
      "cell_type": "code",
      "metadata": {
        "id": "vlHYCJAlKSpK",
        "colab_type": "code",
        "colab": {}
      },
      "source": [
        "from google.colab import auth\n",
        "auth.authenticate_user()\n",
        "\n",
        "project_id = 'sneaker-project-264720'\n",
        "!gcloud config set project {project_id}\n",
        "!gsutil ls"
      ],
      "execution_count": 0,
      "outputs": []
    },
    {
      "cell_type": "code",
      "metadata": {
        "id": "td8Zhx7EKb5_",
        "colab_type": "code",
        "colab": {}
      },
      "source": [
        "bucket_name = 'sneaker_us_central1'\n",
        "\n",
        "!gsutil -m cp -r /content/gdrive/My\\ Drive/Colab\\ Notebooks/FinalProject/Data/images/ gs://{bucket_name}/"
      ],
      "execution_count": 0,
      "outputs": []
    },
    {
      "cell_type": "markdown",
      "metadata": {
        "id": "CF-oVM39KsjZ",
        "colab_type": "text"
      },
      "source": [
        "## Frequently errors\n",
        "  * Remember to place the txt file into the correct folder.\n",
        "  * Check the directory of GCS storage and drive carefully, it cannot work if something wrong.\n",
        "  * If the csv file cannot work, carefully check the content again, and compared it with the directory in your storage."
      ]
    },
    {
      "cell_type": "markdown",
      "metadata": {
        "id": "o3UAf8NSpVPz",
        "colab_type": "text"
      },
      "source": [
        "# Deploy the model to ios devices\n",
        "  * Assume that we all can successfully import the images to GCS storage and have already trained the model， we now give two ways of deploy the model to our iPhone, but one of the ways have some flaws.\n",
        "  1. CoreML provided by Apple. Here is the example of using coreML https://developer.apple.com/documentation/vision/classifying_images_with_vision_and_core_ml. One drawback of it is that it cannot display the labels correctly, and I have not find the solution yet.\n",
        "  2. TensorFlow Lite provided by Google. Here is the documentation and examples of how to using it and substitute your customized model in it. https://github.com/tensorflow/examples/tree/master/lite/examples/image_classification/ios"
      ]
    },
    {
      "cell_type": "markdown",
      "metadata": {
        "id": "4uKbGVoJvzgj",
        "colab_type": "text"
      },
      "source": [
        "# CoreML Vision\n",
        "  * By the official documentation, we first need to download the framework and then come to substitute our customized model in it."
      ]
    },
    {
      "cell_type": "markdown",
      "metadata": {
        "id": "ydGxCjVOxsJC",
        "colab_type": "text"
      },
      "source": [
        "## Download the framework\n",
        "\n"
      ]
    },
    {
      "cell_type": "markdown",
      "metadata": {
        "id": "KU8sYF2X3lUE",
        "colab_type": "text"
      },
      "source": [
        "We first download the model from https://developer.apple.com/documentation/vision/classifying_images_with_vision_and_core_ml. We click the **Download** button to download the zip code and then we unzip it.\n",
        "![替代文字](https://i.ibb.co/Bq0zzDh/2020-01-2314-14-57.png)\n"
      ]
    },
    {
      "cell_type": "markdown",
      "metadata": {
        "id": "3abWmuvky1z1",
        "colab_type": "text"
      },
      "source": [
        "After unzip it, we would get the following folder named **ClassifyingImagesWithVisionAndCoreML**. ![替代文字](https://i.ibb.co/pRtpyvM/2020-01-2314-15-34.png)\n",
        "We open the file that named **Vision+ML Example.xcodeproj**. It would told us that it is a project from internet, we click open.![替代文字](https://i.ibb.co/hRSkTD5/2020-01-2314-15-53.png)"
      ]
    },
    {
      "cell_type": "markdown",
      "metadata": {
        "id": "2_re_sbJzkh1",
        "colab_type": "text"
      },
      "source": [
        "Then you can choose run it on your iPhone or the simulator on each own.![替代文字](https://i.ibb.co/wcvpH6L/2020-01-2314-16-38.png)\n",
        "\n",
        "We then click the **play** botton that looks like a small arrow and try the default examples at begin.![替代文字](https://i.ibb.co/p3bj8Y8/2020-01-2314-17-46.png)\n",
        "\n",
        "And the result is given by ![替代文字](https://i.ibb.co/NKShKZ7/2020-01-2314-17-57.png)"
      ]
    },
    {
      "cell_type": "markdown",
      "metadata": {
        "id": "e0B3b8_I3qpI",
        "colab_type": "text"
      },
      "source": [
        "## Substitute your model"
      ]
    },
    {
      "cell_type": "markdown",
      "metadata": {
        "id": "mBBzlIAs2RyT",
        "colab_type": "text"
      },
      "source": [
        "Then we come to AutoML to export our model in coreML form.![替代文字](https://i.ibb.co/j3Zmrqh/2020-01-2314-35-07.png)\n",
        "\n",
        "Press the **Export** button ![替代文字](https://i.ibb.co/KKKKFQj/2020-01-2314-35-40.png)\n",
        "\n",
        "Download the coreml file from you storage and rename it as \"AutoML\" just to make our lives easier![替代文字](https://i.ibb.co/pnpbCCx/2020-01-2314-36-37.png)\n",
        "\n",
        "It looks like ![替代文字](https://i.ibb.co/2yQQXXN/2020-01-2314-37-30.png) and drag it into our xcode project. Remember to tick the box named **Add to targets** ![替代文字](https://i.ibb.co/wyccqs6/2020-01-2314-37-46.png)\n",
        "\n"
      ]
    },
    {
      "cell_type": "markdown",
      "metadata": {
        "id": "w-giNDbEYHq_",
        "colab_type": "text"
      },
      "source": [
        "## Adjust the code"
      ]
    },
    {
      "cell_type": "markdown",
      "metadata": {
        "id": "VkSniE5vYQjk",
        "colab_type": "text"
      },
      "source": [
        "We then open the ImageClassification.swift, change the 30-th line from its model name to your customized model name![替代文字](https://i.ibb.co/8sVrc4B/2020-01-2314-38-08.png)![替代文字](https://i.ibb.co/TwV29RH/2020-01-2314-38-22.png)"
      ]
    },
    {
      "cell_type": "markdown",
      "metadata": {
        "id": "9edyT1Rdcq8S",
        "colab_type": "text"
      },
      "source": [
        "## Run the program\n",
        "  There are two ways to run this model, either on your phone or the given iPhone simulator, we would try both here."
      ]
    },
    {
      "cell_type": "markdown",
      "metadata": {
        "id": "EafGt3aWc4ZD",
        "colab_type": "text"
      },
      "source": [
        "We first find a images online to test whether our model works.\n",
        "\n",
        "![替代文字](https://i.ibb.co/7GbC63P/images.jpg)\n",
        "\n",
        "Then we drag it into our app and have\n",
        "\n",
        "![替代文字](https://i.ibb.co/5GhqqJp/2020-01-2322-07-17.png)\n"
      ]
    },
    {
      "cell_type": "markdown",
      "metadata": {
        "id": "0hJxCs27Fi_O",
        "colab_type": "text"
      },
      "source": [
        "## Conclusion\n",
        "\n",
        "By the results we have, we conclude that though we can use the coreml to deploy our model, but there some errors in display the labels. Therefore, we choose to usr TensorFlow lite model."
      ]
    },
    {
      "cell_type": "markdown",
      "metadata": {
        "id": "l9XtqThiF1rM",
        "colab_type": "text"
      },
      "source": [
        "## Frequently Errors\n",
        "  * Noticed that when we first click the \"Play\" button, there is a line of errors state that we need to specify our development team, as the images shown\n",
        "  ![替代文字](https://i.ibb.co/vX16S9c/2020-01-2322-02-36.png) \n",
        "\n",
        "  * Here we gave a feasible solution:\n",
        "    1. We first click our project and click the \"Signing & Capabilities\".\n",
        "    2. We then tick the \"Automatically manage signing\" nad choose the team to yor presonal development account.\n",
        "    3. Rerun the project and it should be working now.\n",
        "    ![替代文字](https://i.ibb.co/9NyqhJD/2020-01-2322-02-54.png)"
      ]
    },
    {
      "cell_type": "markdown",
      "metadata": {
        "id": "86AihEs0H_xi",
        "colab_type": "text"
      },
      "source": [
        "# TensorFlow Lite\n",
        "  * By the official documentation, we need to use shell to download the essential tools and git clone the needed file.\n",
        "  * Here we gave the exact steps of how to deploy our TensorFlow Lite model in our ios devices."
      ]
    },
    {
      "cell_type": "markdown",
      "metadata": {
        "id": "hmAN43MkIqTy",
        "colab_type": "text"
      },
      "source": [
        "## Build and run\n",
        "  \n"
      ]
    },
    {
      "cell_type": "markdown",
      "metadata": {
        "id": "9lx0ffhOOHrp",
        "colab_type": "text"
      },
      "source": [
        "### Install the essential libraries and tools"
      ]
    },
    {
      "cell_type": "markdown",
      "metadata": {
        "id": "Ui6c6VSoNwKM",
        "colab_type": "text"
      },
      "source": [
        " Install the CocoaPods\n",
        "```\n",
        "gem install cocoapods\n",
        "```\n",
        "![替代文字](https://i.ibb.co/6DrN2bN/2020-01-2912-05-59.png)"
      ]
    },
    {
      "cell_type": "markdown",
      "metadata": {
        "id": "xJGYFHCENn5u",
        "colab_type": "text"
      },
      "source": [
        "Install the Xcode tools\n",
        "```\n",
        "xcode-select --install\n",
        "```\n",
        "\n",
        "![替代文字](https://i.ibb.co/tq20Ygn/2020-01-2912-04-17.png)\n"
      ]
    },
    {
      "cell_type": "markdown",
      "metadata": {
        "id": "ZOx-WMOINZvG",
        "colab_type": "text"
      },
      "source": [
        "Install the tensorflow and PILLOW\n",
        "```\n",
        "pip install --upgrade  \"tensorflow==1.7.*\"\n",
        "pip install PILLOW\n",
        "```\n",
        "\n",
        "![替代文字](https://i.ibb.co/tCyFhbW/2020-01-2912-01-37.png)"
      ]
    },
    {
      "cell_type": "markdown",
      "metadata": {
        "id": "sn1b6lg3N44n",
        "colab_type": "text"
      },
      "source": [
        "### Clone the GitHub repository"
      ]
    },
    {
      "cell_type": "markdown",
      "metadata": {
        "id": "4KGYPBwVOQ0Q",
        "colab_type": "text"
      },
      "source": [
        "We first use this command to download the relative files from GitHub\n",
        "```\n",
        "git clone https://github.com/tensorflow/examples.git\n",
        "```\n",
        "\n"
      ]
    },
    {
      "cell_type": "markdown",
      "metadata": {
        "id": "Bik1ilM7OaSM",
        "colab_type": "text"
      },
      "source": [
        "Then we generate the workspace file\n",
        "\n",
        "\n",
        "```\n",
        "cd examples/lite/examples/image_classification/ios\n",
        "pod install\n",
        "```\n",
        "\n",
        "**Please excute these two commands separately, otherwise you would not able to get the correct file!**\n",
        "![替代文字](https://i.ibb.co/5jGhJC9/2020-01-2912-22-09.png)\n",
        "\n"
      ]
    },
    {
      "cell_type": "markdown",
      "metadata": {
        "id": "IM2Y2IapOxl9",
        "colab_type": "text"
      },
      "source": [
        "We then open the Xcode workspace by \n",
        "```\n",
        "open ImageClassification.xcworkspace\n",
        "```\n",
        "\n"
      ]
    },
    {
      "cell_type": "markdown",
      "metadata": {
        "id": "m0poHg_sQ5bb",
        "colab_type": "text"
      },
      "source": [
        "### Basic settings"
      ]
    },
    {
      "cell_type": "markdown",
      "metadata": {
        "id": "fh1HiONIQ-Qa",
        "colab_type": "text"
      },
      "source": [
        "1. After we open the Xcode file, we first need to do the same thing as we do to the CoreML model, changing the signing and capabilities.\n",
        "2. Then we must modify the **Bundle Identifier** in the same page and change it to your unique name. For me, I just add my name after the default one.\n",
        "3. And then when we connect our ios devices, we can clike the \"Play\" button and start to use the default model."
      ]
    },
    {
      "cell_type": "markdown",
      "metadata": {
        "id": "bQ_AlFp-UG1n",
        "colab_type": "text"
      },
      "source": [
        "### Try the default model"
      ]
    },
    {
      "cell_type": "markdown",
      "metadata": {
        "id": "uBQAOIj1Ss6-",
        "colab_type": "text"
      },
      "source": [
        "\n",
        "We can see that the accuracy is actually quite high\n",
        "![替代文字](https://i.ibb.co/xCKbgXd/IMG-8292.png)"
      ]
    },
    {
      "cell_type": "markdown",
      "metadata": {
        "id": "ZeG5UpbpT_KA",
        "colab_type": "text"
      },
      "source": [
        "### Deploy our customized model"
      ]
    },
    {
      "cell_type": "markdown",
      "metadata": {
        "id": "ybxLvBnYULyI",
        "colab_type": "text"
      },
      "source": [
        "1. As we do above, we first export our model in tensorflow lite format and download the model itself and the corresponding labels file.\n",
        "2. We rename them as **AutoML.tflite** and **Labels** and drag them into the project file.\n",
        "3. We then go the the folder named **ModelDataHandler** and go to the 37, 38 line of the file in it. Change the content of this two line to you customized model and labels\n",
        "![替代文字](https://i.ibb.co/PcGpyqW/2020-01-2912-45-16.png)\n",
        "4. Click the play again to deploy your new model into your ios devices."
      ]
    },
    {
      "cell_type": "markdown",
      "metadata": {
        "id": "QdRiQ5rwXcZs",
        "colab_type": "text"
      },
      "source": [
        "### Report the results"
      ]
    },
    {
      "cell_type": "markdown",
      "metadata": {
        "id": "YJ4DIfN3oted",
        "colab_type": "text"
      },
      "source": [
        "I first use my friend's shoes as an example, as we can see, the accuracy is not that bad\n",
        "![替代文字](https://i.ibb.co/G9gb15j/IMG-8294.png)"
      ]
    },
    {
      "cell_type": "markdown",
      "metadata": {
        "id": "aMkp8KtHr52Y",
        "colab_type": "text"
      },
      "source": [
        "Then I take my own shoes to give it a test and the results is \n",
        "![替代文字](https://i.ibb.co/MVSQ73d/IMG-8296.png)"
      ]
    },
    {
      "cell_type": "markdown",
      "metadata": {
        "id": "xAqe4i7dusJ3",
        "colab_type": "text"
      },
      "source": [
        "### Frequently Errors"
      ]
    },
    {
      "cell_type": "markdown",
      "metadata": {
        "id": "YTwdGmm2u0eD",
        "colab_type": "text"
      },
      "source": [
        "For now, I found that when I try to get the screen shot, it would set a break point to the code. Therefore, we need to delete Breakpoint as the images, otherwise we would halt automatically.\n",
        "![替代文字](https://i.ibb.co/yPjh2rm/2020-01-2912-47-50.png)"
      ]
    }
  ]
}